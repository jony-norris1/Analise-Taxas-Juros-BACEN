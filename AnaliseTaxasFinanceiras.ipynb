import requests
import pandas as pd
import matplotlib.pyplot as plt
import seaborn as sns

# Carrega os dados com o delimitador correto
file_path = 'dadosbacen.csv'
df = pd.read_csv(file_path, delimiter=';', error_bad_lines=False)

# Remove a linha com a entrada 'Fonte'
df = df[df['Data'] != 'Fonte']

# Substitui '-' por NaN para uma conversão e análise adequadas
df.replace('-', pd.NA, inplace=True)

# Converte 'Data' para datetime
df['Data'] = pd.to_datetime(df['Data'], format='%d/%m/%Y', errors='coerce')

# Converte as colunas de taxa de juros para float, tratando corretamente os valores NaN
# Usa pd.to_numeric com 'coerce' para tratar erros
for column in df.columns[1:]:
    df[column] = pd.to_numeric(df[column].str.replace(',', '.'), errors='coerce')

# Exibe o cabeçalho e descreve o dataframe
print("DataFrame com CDI e Selic:")
print(df.head())
print(df.describe())

# Cria um gráfico de séries temporais para visualizar os dados da taxa de juros ao longo do tempo
plt.figure(figsize=(15, 8))
for column in df.columns[1:]:
    plt.plot(df['Data'], df[column], label=column)
plt.title('Evolução da Taxa de Juros ao Longo do Tempo')
plt.xlabel('Data')
plt.ylabel('Taxa de Juros (% a.a.)')
plt.legend()
plt.grid(True)
plt.show()

# Calcula as taxas de juros médias durante todo o período de tempo
average_interest_rates = df.iloc[:, 1:].mean()
print("\nTaxas de Juros Médias:")
print(average_interest_rates.to_string())

# Cria uma matriz de correlação para visualizar as relações entre as colunas de taxa de juros
correlation_matrix = df.iloc[:, 1:].corr()

# Cria um mapa de calor da matriz de correlação
plt.figure(figsize=(10, 8))
sns.heatmap(correlation_matrix, annot=True, cmap='coolwarm', fmt='.2f')
plt.title('Mapa de Calor de Correlação das Colunas de Taxa de Juros')
plt.show()
